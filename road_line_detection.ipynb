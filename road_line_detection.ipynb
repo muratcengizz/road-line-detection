{
 "cells": [
  {
   "cell_type": "code",
   "execution_count": 2,
   "id": "6e0fccab-5f86-489e-8d4a-e27d75ca4586",
   "metadata": {},
   "outputs": [],
   "source": [
    "import cv2\n",
    "import numpy as np"
   ]
  },
  {
   "cell_type": "code",
   "execution_count": 24,
   "id": "fee1e943-244a-4e6d-8f03-6b7d48017893",
   "metadata": {},
   "outputs": [],
   "source": [
    "video = cv2.VideoCapture(filename=\"videos/road_line2.mp4\")\n",
    "width = int(video.get(cv2.CAP_PROP_FRAME_WIDTH))\n",
    "height = int(video.get(cv2.CAP_PROP_FRAME_HEIGHT))\n",
    "\n",
    "writer = cv2.VideoWriter(filename=\"videos/linedetection.mp4\",\n",
    "                         fourcc=cv2.VideoWriter_fourcc(*\"DIVX\"),\n",
    "                         fps=25,\n",
    "                         frameSize=(width, height))\n",
    "\n",
    "\n",
    "def region_of_interest(image, vertices):\n",
    "    mask = np.zeros_like(image)\n",
    "    match_mask_color = 255\n",
    "    \n",
    "    cv2.fillPoly(img=mask, pts=vertices, color=match_mask_color)\n",
    "    masked_image = cv2.bitwise_and(src1=image, src2=image, mask=mask)\n",
    "    return masked_image\n",
    "\n",
    "\n",
    "def drawLines(image, lines):\n",
    "    image = np.copy(image)\n",
    "    blank_image = np.zeros((image.shape[0], image.shape[1], 3), dtype=np.uint8)\n",
    "    \n",
    "    for line in lines:\n",
    "        for x1, y1, x2, y2 in line:\n",
    "            cv2.line(img=image,\n",
    "                     pt1=(x1, y1),\n",
    "                     pt2=(x2, y2),\n",
    "                     color=(0, 255, 0),\n",
    "                     thickness=10)\n",
    "    image = cv2.addWeighted(src1=image, alpha=0.8, src2=blank_image, beta=1, gamma=0.0)\n",
    "    return image\n",
    "\n",
    "def process(image):\n",
    "    height, width = image.shape[0], image.shape[1]\n",
    "    region_of_interest_vertices = [(0, height), (width/2, height/2), (width, height)]\n",
    "    gray_image = cv2.cvtColor(src=image, code=cv2.COLOR_BGR2GRAY)\n",
    "    canny_image = cv2.Canny(image=gray_image, threshold1=250, threshold2=120)\n",
    "    cropped_image = region_of_interest(image=canny_image, vertices=np.array([region_of_interest_vertices], np.int32))\n",
    "    \n",
    "    lines = cv2.HoughLinesP(image=cropped_image,\n",
    "                            rho=2,\n",
    "                            theta=np.pi / 180,\n",
    "                            threshold=220,\n",
    "                            lines=np.array([]),\n",
    "                            minLineLength=150,\n",
    "                            maxLineGap=5)\n",
    "    drawing_lines = drawLines(image=image, lines=lines)\n",
    "    return drawing_lines\n",
    "while True:\n",
    "    retval, img = video.read()\n",
    "    if not retval: break\n",
    "\n",
    "    try:\n",
    "        img = process(image=img)\n",
    "        cv2.imshow(winname=\"Video\", mat=img)\n",
    "    except: pass\n",
    "\n",
    "    writer.write(image=img)\n",
    "    if cv2.waitKey(20) == ord(\"q\"): break\n",
    "    \n",
    "writer.release()\n",
    "video.release()\n",
    "cv2.destroyAllWindows()"
   ]
  },
  {
   "cell_type": "code",
   "execution_count": 14,
   "id": "7fe2a06a-be36-428b-b644-eab22e56f182",
   "metadata": {
    "tags": []
   },
   "outputs": [
    {
     "data": {
      "text/plain": [
       "\u001b[1;31mDocstring:\u001b[0m\n",
       "addWeighted(src1, alpha, src2, beta, gamma[, dst[, dtype]]) -> dst\n",
       ".   @brief Calculates the weighted sum of two arrays.\n",
       ".   \n",
       ".   The function addWeighted calculates the weighted sum of two arrays as follows:\n",
       ".   \\f[\\texttt{dst} (I)= \\texttt{saturate} ( \\texttt{src1} (I)* \\texttt{alpha} +  \\texttt{src2} (I)* \\texttt{beta} +  \\texttt{gamma} )\\f]\n",
       ".   where I is a multi-dimensional index of array elements. In case of multi-channel arrays, each\n",
       ".   channel is processed independently.\n",
       ".   The function can be replaced with a matrix expression:\n",
       ".   @code{.cpp}\n",
       ".       dst = src1*alpha + src2*beta + gamma;\n",
       ".   @endcode\n",
       ".   @note Saturation is not applied when the output array has the depth CV_32S. You may even get\n",
       ".   result of an incorrect sign in the case of overflow.\n",
       ".   @param src1 first input array.\n",
       ".   @param alpha weight of the first array elements.\n",
       ".   @param src2 second input array of the same size and channel number as src1.\n",
       ".   @param beta weight of the second array elements.\n",
       ".   @param gamma scalar added to each sum.\n",
       ".   @param dst output array that has the same size and number of channels as the input arrays.\n",
       ".   @param dtype optional depth of the output array; when both input arrays have the same depth, dtype\n",
       ".   can be set to -1, which will be equivalent to src1.depth().\n",
       ".   @sa  add, subtract, scaleAdd, Mat::convertTo\n",
       "\u001b[1;31mType:\u001b[0m      builtin_function_or_method\n"
      ]
     },
     "metadata": {},
     "output_type": "display_data"
    }
   ],
   "source": [
    "?cv2.addWeighted"
   ]
  },
  {
   "cell_type": "code",
   "execution_count": 30,
   "id": "88880f51-b3ed-4183-9d7b-4cb73d2e5d7c",
   "metadata": {},
   "outputs": [
    {
     "data": {
      "text/plain": [
       "(-1, None)"
      ]
     },
     "execution_count": 30,
     "metadata": {},
     "output_type": "execute_result"
    }
   ],
   "source": [
    "image = np.zeros((500, 500, 3), dtype=np.uint8)\n",
    "\n",
    "pts = np.array([[100, 100], [200, 400], [400, 200]], np.int32)\n",
    "\n",
    "cv2.fillPoly(img=image, pts=[pts], color=(0, 0, 255))\n",
    "\n",
    "cv2.imshow(winname=\"video\", mat=image)\n",
    "cv2.waitKey(0), cv2.destroyAllWindows()"
   ]
  },
  {
   "cell_type": "code",
   "execution_count": null,
   "id": "ac662a68-f60a-4494-9e5e-112ef59a4a86",
   "metadata": {},
   "outputs": [],
   "source": []
  }
 ],
 "metadata": {
  "kernelspec": {
   "display_name": "Python 3 (ipykernel)",
   "language": "python",
   "name": "python3"
  },
  "language_info": {
   "codemirror_mode": {
    "name": "ipython",
    "version": 3
   },
   "file_extension": ".py",
   "mimetype": "text/x-python",
   "name": "python",
   "nbconvert_exporter": "python",
   "pygments_lexer": "ipython3",
   "version": "3.9.12"
  }
 },
 "nbformat": 4,
 "nbformat_minor": 5
}
